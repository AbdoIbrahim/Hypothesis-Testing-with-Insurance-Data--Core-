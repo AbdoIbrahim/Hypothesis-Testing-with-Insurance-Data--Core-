{
 "cells": [
  {
   "cell_type": "markdown",
   "id": "f2acde6e",
   "metadata": {},
   "source": [
    "# For each question, make sure to:\n",
    "\n",
    "1. State your Null Hypothesis and Alternative Hypothesis\n",
    "2. Select the correct test according to the data type and number of samples\n",
    "3. Test the assumptions of your selected test.\n",
    "4. Execute the selected test, or the alternative test (if you do not meet the assumptions)\n",
    "5. Interpret your p-value and reject or fail to reject your null hypothesis \n",
    "6. Show a supporting visualization that helps display the result"
   ]
  },
  {
   "cell_type": "markdown",
   "id": "c65e98aa",
   "metadata": {},
   "source": [
    "## Questions\n",
    "- Q1. Do smokers have higher insurance charges than non-smokers?\n",
    "- Q2. Are men more likely to smoke than women?\n",
    "- Q3. Do different regions have different charges, on average?"
   ]
  },
  {
   "cell_type": "markdown",
   "id": "33a7dbec",
   "metadata": {},
   "source": [
    "### Question 1 Hypothesis \n",
    "Do smokers have higher insurance charges than non-smokers? \n",
    "\n",
    "Null Hypothesis H0: There is no difference between charges for non-smokers and smokers \n",
    "\n",
    "Alternate Hypothesis H1: There is a  difference in charges for  smokers and non-smokers \n",
    "\n",
    "Data Type: Numeric "
   ]
  },
  {
   "cell_type": "markdown",
   "id": "cd9cd399",
   "metadata": {},
   "source": [
    "### Question 2 Hypothesis \n",
    "Are men more likely to smoke than women?\n",
    "\n",
    "Null Hypothesis H0: There is no difference, Men and Women are both just as likely to be smokers \n",
    "\n",
    "Alternate Hypothesis H1: There is a difference in the probability of Men and Women smoking. \n",
    "\n",
    "Data Type: Categorical "
   ]
  },
  {
   "cell_type": "markdown",
   "id": "bdbbeb6f",
   "metadata": {},
   "source": [
    " ### Question 3 Hypothesis \n",
    " \n",
    " Do different regions have different charges, on average?\n",
    " \n",
    " Null Hypothesis H0: There is no difference in charges by region. \n",
    " \n",
    "Alternate Hypothesis H1: There is a difference in the charges by region. \n",
    " \n",
    "\n",
    "Data Type : Categorical "
   ]
  },
  {
   "cell_type": "code",
   "execution_count": 1,
   "id": "3fb7e9db",
   "metadata": {
    "ExecuteTime": {
     "end_time": "2022-11-02T18:11:59.175807Z",
     "start_time": "2022-11-02T18:11:57.507625Z"
    }
   },
   "outputs": [
    {
     "data": {
      "text/plain": [
       "'1.8.1'"
      ]
     },
     "execution_count": 1,
     "metadata": {},
     "output_type": "execute_result"
    }
   ],
   "source": [
    "\n",
    "import pandas as pd\n",
    "import numpy as np\n",
    "import json \n",
    "import seaborn as sns \n",
    "import matplotlib.pyplot as plt \n",
    "\n",
    "import scipy.stats as stats\n",
    "\n",
    "import scipy\n",
    "scipy.__version__"
   ]
  },
  {
   "cell_type": "code",
   "execution_count": 2,
   "id": "d093c9e4",
   "metadata": {
    "ExecuteTime": {
     "end_time": "2022-11-02T18:11:59.198081Z",
     "start_time": "2022-11-02T18:11:59.179213Z"
    }
   },
   "outputs": [
    {
     "data": {
      "text/html": [
       "<div>\n",
       "<style scoped>\n",
       "    .dataframe tbody tr th:only-of-type {\n",
       "        vertical-align: middle;\n",
       "    }\n",
       "\n",
       "    .dataframe tbody tr th {\n",
       "        vertical-align: top;\n",
       "    }\n",
       "\n",
       "    .dataframe thead th {\n",
       "        text-align: right;\n",
       "    }\n",
       "</style>\n",
       "<table border=\"1\" class=\"dataframe\">\n",
       "  <thead>\n",
       "    <tr style=\"text-align: right;\">\n",
       "      <th></th>\n",
       "      <th>age</th>\n",
       "      <th>sex</th>\n",
       "      <th>bmi</th>\n",
       "      <th>children</th>\n",
       "      <th>smoker</th>\n",
       "      <th>region</th>\n",
       "      <th>charges</th>\n",
       "    </tr>\n",
       "  </thead>\n",
       "  <tbody>\n",
       "    <tr>\n",
       "      <th>0</th>\n",
       "      <td>19</td>\n",
       "      <td>female</td>\n",
       "      <td>27.900</td>\n",
       "      <td>0</td>\n",
       "      <td>yes</td>\n",
       "      <td>southwest</td>\n",
       "      <td>16884.92400</td>\n",
       "    </tr>\n",
       "    <tr>\n",
       "      <th>1</th>\n",
       "      <td>18</td>\n",
       "      <td>male</td>\n",
       "      <td>33.770</td>\n",
       "      <td>1</td>\n",
       "      <td>no</td>\n",
       "      <td>southeast</td>\n",
       "      <td>1725.55230</td>\n",
       "    </tr>\n",
       "    <tr>\n",
       "      <th>2</th>\n",
       "      <td>28</td>\n",
       "      <td>male</td>\n",
       "      <td>33.000</td>\n",
       "      <td>3</td>\n",
       "      <td>no</td>\n",
       "      <td>southeast</td>\n",
       "      <td>4449.46200</td>\n",
       "    </tr>\n",
       "    <tr>\n",
       "      <th>3</th>\n",
       "      <td>33</td>\n",
       "      <td>male</td>\n",
       "      <td>22.705</td>\n",
       "      <td>0</td>\n",
       "      <td>no</td>\n",
       "      <td>northwest</td>\n",
       "      <td>21984.47061</td>\n",
       "    </tr>\n",
       "    <tr>\n",
       "      <th>4</th>\n",
       "      <td>32</td>\n",
       "      <td>male</td>\n",
       "      <td>28.880</td>\n",
       "      <td>0</td>\n",
       "      <td>no</td>\n",
       "      <td>northwest</td>\n",
       "      <td>3866.85520</td>\n",
       "    </tr>\n",
       "  </tbody>\n",
       "</table>\n",
       "</div>"
      ],
      "text/plain": [
       "   age     sex     bmi  children smoker     region      charges\n",
       "0   19  female  27.900         0    yes  southwest  16884.92400\n",
       "1   18    male  33.770         1     no  southeast   1725.55230\n",
       "2   28    male  33.000         3     no  southeast   4449.46200\n",
       "3   33    male  22.705         0     no  northwest  21984.47061\n",
       "4   32    male  28.880         0     no  northwest   3866.85520"
      ]
     },
     "execution_count": 2,
     "metadata": {},
     "output_type": "execute_result"
    }
   ],
   "source": [
    "df = pd.read_csv('Data/insurance - insurance.csv')\n",
    "df.head()"
   ]
  },
  {
   "cell_type": "markdown",
   "id": "58624076",
   "metadata": {},
   "source": [
    "# Question 1 Hypothesis\n",
    "**Do smokers have higher insurance charges than non-smokers?**\n",
    "\n",
    "* Null Hypothesis H0: There is no difference between charges for non-smokers and smokers\n",
    "\n",
    "* Alternate Hypothesis H1: There is a difference in charges for smokers and non-smokers\n",
    "\n",
    "* Data Type: Numeric\n",
    "\n",
    "# Determine the correct test to perform.\n",
    "* Type of Data?\n",
    "\n",
    "**Numeric**\n",
    "\n",
    "* How many groups/samples?\n",
    "\n",
    "**2**\n",
    "* Therefore, which test is appropriate?\n",
    "\n",
    "**2-sample T-Test**"
   ]
  },
  {
   "cell_type": "markdown",
   "id": "d6c3a1f8",
   "metadata": {},
   "source": [
    "# Visualize and separate data for hypothesis\n",
    "\n",
    "* What column is our target?\n",
    "\n",
    "The **Charges** column \n",
    "\n",
    "* What column determines our groups?\n",
    "\n",
    "The **smoker** column "
   ]
  },
  {
   "cell_type": "code",
   "execution_count": 3,
   "id": "0b3280cc",
   "metadata": {
    "ExecuteTime": {
     "end_time": "2022-11-02T18:11:59.211896Z",
     "start_time": "2022-11-02T18:11:59.200872Z"
    }
   },
   "outputs": [
    {
     "name": "stdout",
     "output_type": "stream",
     "text": [
      "<class 'pandas.core.frame.DataFrame'>\n",
      "RangeIndex: 1338 entries, 0 to 1337\n",
      "Data columns (total 7 columns):\n",
      " #   Column    Non-Null Count  Dtype  \n",
      "---  ------    --------------  -----  \n",
      " 0   age       1338 non-null   int64  \n",
      " 1   sex       1338 non-null   object \n",
      " 2   bmi       1338 non-null   float64\n",
      " 3   children  1338 non-null   int64  \n",
      " 4   smoker    1338 non-null   object \n",
      " 5   region    1338 non-null   object \n",
      " 6   charges   1338 non-null   float64\n",
      "dtypes: float64(2), int64(2), object(3)\n",
      "memory usage: 73.3+ KB\n"
     ]
    }
   ],
   "source": [
    "df.info()"
   ]
  },
  {
   "cell_type": "code",
   "execution_count": 4,
   "id": "f726eb2f",
   "metadata": {
    "ExecuteTime": {
     "end_time": "2022-11-02T18:11:59.222833Z",
     "start_time": "2022-11-02T18:11:59.215809Z"
    }
   },
   "outputs": [
    {
     "data": {
      "text/plain": [
       "1639.56310     2\n",
       "16884.92400    1\n",
       "29330.98315    1\n",
       "2221.56445     1\n",
       "19798.05455    1\n",
       "              ..\n",
       "7345.08400     1\n",
       "26109.32905    1\n",
       "28287.89766    1\n",
       "1149.39590     1\n",
       "29141.36030    1\n",
       "Name: charges, Length: 1337, dtype: int64"
      ]
     },
     "execution_count": 4,
     "metadata": {},
     "output_type": "execute_result"
    }
   ],
   "source": [
    "#check column that contains our measurment display value counts \n",
    "df['charges'].value_counts()"
   ]
  },
  {
   "cell_type": "code",
   "execution_count": 5,
   "id": "7c5fc5f8",
   "metadata": {
    "ExecuteTime": {
     "end_time": "2022-11-02T18:11:59.231805Z",
     "start_time": "2022-11-02T18:11:59.225757Z"
    }
   },
   "outputs": [
    {
     "data": {
      "text/plain": [
       "no     1064\n",
       "yes     274\n",
       "Name: smoker, dtype: int64"
      ]
     },
     "execution_count": 5,
     "metadata": {},
     "output_type": "execute_result"
    }
   ],
   "source": [
    "#check column that will help us seperate by group\n",
    "df['smoker'].value_counts()"
   ]
  },
  {
   "cell_type": "code",
   "execution_count": 6,
   "id": "a8fd07da",
   "metadata": {
    "ExecuteTime": {
     "end_time": "2022-11-02T18:11:59.399187Z",
     "start_time": "2022-11-02T18:11:59.234199Z"
    }
   },
   "outputs": [
    {
     "data": {
      "text/plain": [
       "<AxesSubplot:xlabel='smoker', ylabel='Count'>"
      ]
     },
     "execution_count": 6,
     "metadata": {},
     "output_type": "execute_result"
    },
    {
     "data": {
      "image/png": "[encoded data removed]",
      "text/plain": [
       "<Figure size 640x480 with 1 Axes>"
      ]
     },
     "metadata": {},
     "output_type": "display_data"
    }
   ],
   "source": [
    "#Display the visualization for the column that will seperate by group \n",
    "\n",
    "sns.histplot(data=df, x='smoker')"
   ]
  },
  {
   "cell_type": "code",
   "execution_count": 7,
   "id": "5fcfdb87",
   "metadata": {
    "ExecuteTime": {
     "end_time": "2022-11-02T18:11:59.410330Z",
     "start_time": "2022-11-02T18:11:59.401392Z"
    }
   },
   "outputs": [
    {
     "data": {
      "text/plain": [
       "False    0.795217\n",
       "True     0.204783\n",
       "Name: has_smoker, dtype: float64"
      ]
     },
     "execution_count": 7,
     "metadata": {},
     "output_type": "execute_result"
    }
   ],
   "source": [
    "df['has_smoker'] = df['smoker'].str.contains('yes')\n",
    "df['has_smoker'].value_counts(normalize=True)"
   ]
  },
  {
   "cell_type": "code",
   "execution_count": 8,
   "id": "df53b62f",
   "metadata": {
    "ExecuteTime": {
     "end_time": "2022-11-02T18:11:59.419147Z",
     "start_time": "2022-11-02T18:11:59.413049Z"
    }
   },
   "outputs": [
    {
     "data": {
      "text/plain": [
       "False    1064\n",
       "True      274\n",
       "Name: has_smoker, dtype: int64"
      ]
     },
     "execution_count": 8,
     "metadata": {},
     "output_type": "execute_result"
    }
   ],
   "source": [
    "df['has_smoker'].value_counts()"
   ]
  },
  {
   "cell_type": "code",
   "execution_count": 9,
   "id": "761825c2",
   "metadata": {
    "ExecuteTime": {
     "end_time": "2022-11-02T18:11:59.433835Z",
     "start_time": "2022-11-02T18:11:59.422089Z"
    }
   },
   "outputs": [
    {
     "data": {
      "text/html": [
       "<div>\n",
       "<style scoped>\n",
       "    .dataframe tbody tr th:only-of-type {\n",
       "        vertical-align: middle;\n",
       "    }\n",
       "\n",
       "    .dataframe tbody tr th {\n",
       "        vertical-align: top;\n",
       "    }\n",
       "\n",
       "    .dataframe thead th {\n",
       "        text-align: right;\n",
       "    }\n",
       "</style>\n",
       "<table border=\"1\" class=\"dataframe\">\n",
       "  <thead>\n",
       "    <tr style=\"text-align: right;\">\n",
       "      <th></th>\n",
       "      <th>age</th>\n",
       "      <th>sex</th>\n",
       "      <th>bmi</th>\n",
       "      <th>children</th>\n",
       "      <th>smoker</th>\n",
       "      <th>region</th>\n",
       "      <th>charges</th>\n",
       "      <th>has_smoker</th>\n",
       "    </tr>\n",
       "  </thead>\n",
       "  <tbody>\n",
       "    <tr>\n",
       "      <th>0</th>\n",
       "      <td>19</td>\n",
       "      <td>female</td>\n",
       "      <td>27.900</td>\n",
       "      <td>0</td>\n",
       "      <td>yes</td>\n",
       "      <td>southwest</td>\n",
       "      <td>16884.92400</td>\n",
       "      <td>True</td>\n",
       "    </tr>\n",
       "    <tr>\n",
       "      <th>1</th>\n",
       "      <td>18</td>\n",
       "      <td>male</td>\n",
       "      <td>33.770</td>\n",
       "      <td>1</td>\n",
       "      <td>no</td>\n",
       "      <td>southeast</td>\n",
       "      <td>1725.55230</td>\n",
       "      <td>False</td>\n",
       "    </tr>\n",
       "    <tr>\n",
       "      <th>2</th>\n",
       "      <td>28</td>\n",
       "      <td>male</td>\n",
       "      <td>33.000</td>\n",
       "      <td>3</td>\n",
       "      <td>no</td>\n",
       "      <td>southeast</td>\n",
       "      <td>4449.46200</td>\n",
       "      <td>False</td>\n",
       "    </tr>\n",
       "    <tr>\n",
       "      <th>3</th>\n",
       "      <td>33</td>\n",
       "      <td>male</td>\n",
       "      <td>22.705</td>\n",
       "      <td>0</td>\n",
       "      <td>no</td>\n",
       "      <td>northwest</td>\n",
       "      <td>21984.47061</td>\n",
       "      <td>False</td>\n",
       "    </tr>\n",
       "    <tr>\n",
       "      <th>4</th>\n",
       "      <td>32</td>\n",
       "      <td>male</td>\n",
       "      <td>28.880</td>\n",
       "      <td>0</td>\n",
       "      <td>no</td>\n",
       "      <td>northwest</td>\n",
       "      <td>3866.85520</td>\n",
       "      <td>False</td>\n",
       "    </tr>\n",
       "  </tbody>\n",
       "</table>\n",
       "</div>"
      ],
      "text/plain": [
       "   age     sex     bmi  children smoker     region      charges  has_smoker\n",
       "0   19  female  27.900         0    yes  southwest  16884.92400        True\n",
       "1   18    male  33.770         1     no  southeast   1725.55230       False\n",
       "2   28    male  33.000         3     no  southeast   4449.46200       False\n",
       "3   33    male  22.705         0     no  northwest  21984.47061       False\n",
       "4   32    male  28.880         0     no  northwest   3866.85520       False"
      ]
     },
     "execution_count": 9,
     "metadata": {},
     "output_type": "execute_result"
    }
   ],
   "source": [
    "df.head()"
   ]
  },
  {
   "cell_type": "code",
   "execution_count": 10,
   "id": "804abd49",
   "metadata": {
    "ExecuteTime": {
     "end_time": "2022-11-02T18:11:59.448251Z",
     "start_time": "2022-11-02T18:11:59.441768Z"
    }
   },
   "outputs": [
    {
     "data": {
      "text/plain": [
       "['has_smoker', 'charges']"
      ]
     },
     "execution_count": 10,
     "metadata": {},
     "output_type": "execute_result"
    }
   ],
   "source": [
    "# save a list of columns needed for the smokers group \n",
    "needed_cols = ['has_smoker','charges']\n",
    "needed_cols"
   ]
  },
  {
   "cell_type": "code",
   "execution_count": 11,
   "id": "6e2e0457",
   "metadata": {
    "ExecuteTime": {
     "end_time": "2022-11-02T18:11:59.465468Z",
     "start_time": "2022-11-02T18:11:59.450972Z"
    }
   },
   "outputs": [
    {
     "data": {
      "text/html": [
       "<div>\n",
       "<style scoped>\n",
       "    .dataframe tbody tr th:only-of-type {\n",
       "        vertical-align: middle;\n",
       "    }\n",
       "\n",
       "    .dataframe tbody tr th {\n",
       "        vertical-align: top;\n",
       "    }\n",
       "\n",
       "    .dataframe thead th {\n",
       "        text-align: right;\n",
       "    }\n",
       "</style>\n",
       "<table border=\"1\" class=\"dataframe\">\n",
       "  <thead>\n",
       "    <tr style=\"text-align: right;\">\n",
       "      <th></th>\n",
       "      <th>has_smoker</th>\n",
       "      <th>charges</th>\n",
       "    </tr>\n",
       "  </thead>\n",
       "  <tbody>\n",
       "    <tr>\n",
       "      <th>1</th>\n",
       "      <td>False</td>\n",
       "      <td>1725.55230</td>\n",
       "    </tr>\n",
       "    <tr>\n",
       "      <th>2</th>\n",
       "      <td>False</td>\n",
       "      <td>4449.46200</td>\n",
       "    </tr>\n",
       "    <tr>\n",
       "      <th>3</th>\n",
       "      <td>False</td>\n",
       "      <td>21984.47061</td>\n",
       "    </tr>\n",
       "    <tr>\n",
       "      <th>4</th>\n",
       "      <td>False</td>\n",
       "      <td>3866.85520</td>\n",
       "    </tr>\n",
       "    <tr>\n",
       "      <th>5</th>\n",
       "      <td>False</td>\n",
       "      <td>3756.62160</td>\n",
       "    </tr>\n",
       "    <tr>\n",
       "      <th>...</th>\n",
       "      <td>...</td>\n",
       "      <td>...</td>\n",
       "    </tr>\n",
       "    <tr>\n",
       "      <th>1332</th>\n",
       "      <td>False</td>\n",
       "      <td>11411.68500</td>\n",
       "    </tr>\n",
       "    <tr>\n",
       "      <th>1333</th>\n",
       "      <td>False</td>\n",
       "      <td>10600.54830</td>\n",
       "    </tr>\n",
       "    <tr>\n",
       "      <th>1334</th>\n",
       "      <td>False</td>\n",
       "      <td>2205.98080</td>\n",
       "    </tr>\n",
       "    <tr>\n",
       "      <th>1335</th>\n",
       "      <td>False</td>\n",
       "      <td>1629.83350</td>\n",
       "    </tr>\n",
       "    <tr>\n",
       "      <th>1336</th>\n",
       "      <td>False</td>\n",
       "      <td>2007.94500</td>\n",
       "    </tr>\n",
       "  </tbody>\n",
       "</table>\n",
       "<p>1064 rows × 2 columns</p>\n",
       "</div>"
      ],
      "text/plain": [
       "      has_smoker      charges\n",
       "1          False   1725.55230\n",
       "2          False   4449.46200\n",
       "3          False  21984.47061\n",
       "4          False   3866.85520\n",
       "5          False   3756.62160\n",
       "...          ...          ...\n",
       "1332       False  11411.68500\n",
       "1333       False  10600.54830\n",
       "1334       False   2205.98080\n",
       "1335       False   1629.83350\n",
       "1336       False   2007.94500\n",
       "\n",
       "[1064 rows x 2 columns]"
      ]
     },
     "execution_count": 11,
     "metadata": {},
     "output_type": "execute_result"
    }
   ],
   "source": [
    "# save a list of columns needed for the non-smokers group \n",
    "nonsmokers = df.loc[df['has_smoker']==False, needed_cols]\n",
    "nonsmokers "
   ]
  },
  {
   "cell_type": "code",
   "execution_count": 12,
   "id": "014de498",
   "metadata": {
    "ExecuteTime": {
     "end_time": "2022-11-02T18:11:59.503338Z",
     "start_time": "2022-11-02T18:11:59.468303Z"
    }
   },
   "outputs": [
    {
     "data": {
      "text/html": [
       "<div>\n",
       "<style scoped>\n",
       "    .dataframe tbody tr th:only-of-type {\n",
       "        vertical-align: middle;\n",
       "    }\n",
       "\n",
       "    .dataframe tbody tr th {\n",
       "        vertical-align: top;\n",
       "    }\n",
       "\n",
       "    .dataframe thead th {\n",
       "        text-align: right;\n",
       "    }\n",
       "</style>\n",
       "<table border=\"1\" class=\"dataframe\">\n",
       "  <thead>\n",
       "    <tr style=\"text-align: right;\">\n",
       "      <th></th>\n",
       "      <th>has_smoker</th>\n",
       "      <th>charges</th>\n",
       "    </tr>\n",
       "  </thead>\n",
       "  <tbody>\n",
       "    <tr>\n",
       "      <th>0</th>\n",
       "      <td>True</td>\n",
       "      <td>16884.92400</td>\n",
       "    </tr>\n",
       "    <tr>\n",
       "      <th>11</th>\n",
       "      <td>True</td>\n",
       "      <td>27808.72510</td>\n",
       "    </tr>\n",
       "    <tr>\n",
       "      <th>14</th>\n",
       "      <td>True</td>\n",
       "      <td>39611.75770</td>\n",
       "    </tr>\n",
       "    <tr>\n",
       "      <th>19</th>\n",
       "      <td>True</td>\n",
       "      <td>36837.46700</td>\n",
       "    </tr>\n",
       "    <tr>\n",
       "      <th>23</th>\n",
       "      <td>True</td>\n",
       "      <td>37701.87680</td>\n",
       "    </tr>\n",
       "    <tr>\n",
       "      <th>...</th>\n",
       "      <td>...</td>\n",
       "      <td>...</td>\n",
       "    </tr>\n",
       "    <tr>\n",
       "      <th>1313</th>\n",
       "      <td>True</td>\n",
       "      <td>36397.57600</td>\n",
       "    </tr>\n",
       "    <tr>\n",
       "      <th>1314</th>\n",
       "      <td>True</td>\n",
       "      <td>18765.87545</td>\n",
       "    </tr>\n",
       "    <tr>\n",
       "      <th>1321</th>\n",
       "      <td>True</td>\n",
       "      <td>28101.33305</td>\n",
       "    </tr>\n",
       "    <tr>\n",
       "      <th>1323</th>\n",
       "      <td>True</td>\n",
       "      <td>43896.37630</td>\n",
       "    </tr>\n",
       "    <tr>\n",
       "      <th>1337</th>\n",
       "      <td>True</td>\n",
       "      <td>29141.36030</td>\n",
       "    </tr>\n",
       "  </tbody>\n",
       "</table>\n",
       "<p>274 rows × 2 columns</p>\n",
       "</div>"
      ],
      "text/plain": [
       "      has_smoker      charges\n",
       "0           True  16884.92400\n",
       "11          True  27808.72510\n",
       "14          True  39611.75770\n",
       "19          True  36837.46700\n",
       "23          True  37701.87680\n",
       "...          ...          ...\n",
       "1313        True  36397.57600\n",
       "1314        True  18765.87545\n",
       "1321        True  28101.33305\n",
       "1323        True  43896.37630\n",
       "1337        True  29141.36030\n",
       "\n",
       "[274 rows x 2 columns]"
      ]
     },
     "execution_count": 12,
     "metadata": {},
     "output_type": "execute_result"
    }
   ],
   "source": [
    "# save a list of columns needed for the smokers group \n",
    "smokers = df.loc[df['has_smoker']==True, needed_cols]\n",
    "smokers"
   ]
  },
  {
   "cell_type": "code",
   "execution_count": 13,
   "id": "09cfa70e",
   "metadata": {
    "ExecuteTime": {
     "end_time": "2022-11-02T18:11:59.516304Z",
     "start_time": "2022-11-02T18:11:59.505669Z"
    }
   },
   "outputs": [
    {
     "data": {
      "text/html": [
       "<div>\n",
       "<style scoped>\n",
       "    .dataframe tbody tr th:only-of-type {\n",
       "        vertical-align: middle;\n",
       "    }\n",
       "\n",
       "    .dataframe tbody tr th {\n",
       "        vertical-align: top;\n",
       "    }\n",
       "\n",
       "    .dataframe thead th {\n",
       "        text-align: right;\n",
       "    }\n",
       "</style>\n",
       "<table border=\"1\" class=\"dataframe\">\n",
       "  <thead>\n",
       "    <tr style=\"text-align: right;\">\n",
       "      <th></th>\n",
       "      <th>has_smoker</th>\n",
       "      <th>charges</th>\n",
       "    </tr>\n",
       "  </thead>\n",
       "  <tbody>\n",
       "    <tr>\n",
       "      <th>1</th>\n",
       "      <td>False</td>\n",
       "      <td>1725.55230</td>\n",
       "    </tr>\n",
       "    <tr>\n",
       "      <th>2</th>\n",
       "      <td>False</td>\n",
       "      <td>4449.46200</td>\n",
       "    </tr>\n",
       "    <tr>\n",
       "      <th>3</th>\n",
       "      <td>False</td>\n",
       "      <td>21984.47061</td>\n",
       "    </tr>\n",
       "    <tr>\n",
       "      <th>4</th>\n",
       "      <td>False</td>\n",
       "      <td>3866.85520</td>\n",
       "    </tr>\n",
       "    <tr>\n",
       "      <th>5</th>\n",
       "      <td>False</td>\n",
       "      <td>3756.62160</td>\n",
       "    </tr>\n",
       "    <tr>\n",
       "      <th>...</th>\n",
       "      <td>...</td>\n",
       "      <td>...</td>\n",
       "    </tr>\n",
       "    <tr>\n",
       "      <th>1313</th>\n",
       "      <td>True</td>\n",
       "      <td>36397.57600</td>\n",
       "    </tr>\n",
       "    <tr>\n",
       "      <th>1314</th>\n",
       "      <td>True</td>\n",
       "      <td>18765.87545</td>\n",
       "    </tr>\n",
       "    <tr>\n",
       "      <th>1321</th>\n",
       "      <td>True</td>\n",
       "      <td>28101.33305</td>\n",
       "    </tr>\n",
       "    <tr>\n",
       "      <th>1323</th>\n",
       "      <td>True</td>\n",
       "      <td>43896.37630</td>\n",
       "    </tr>\n",
       "    <tr>\n",
       "      <th>1337</th>\n",
       "      <td>True</td>\n",
       "      <td>29141.36030</td>\n",
       "    </tr>\n",
       "  </tbody>\n",
       "</table>\n",
       "<p>1338 rows × 2 columns</p>\n",
       "</div>"
      ],
      "text/plain": [
       "      has_smoker      charges\n",
       "1          False   1725.55230\n",
       "2          False   4449.46200\n",
       "3          False  21984.47061\n",
       "4          False   3866.85520\n",
       "5          False   3756.62160\n",
       "...          ...          ...\n",
       "1313        True  36397.57600\n",
       "1314        True  18765.87545\n",
       "1321        True  28101.33305\n",
       "1323        True  43896.37630\n",
       "1337        True  29141.36030\n",
       "\n",
       "[1338 rows x 2 columns]"
      ]
     },
     "execution_count": 13,
     "metadata": {},
     "output_type": "execute_result"
    }
   ],
   "source": [
    "#plot the smokers and non smokers groups \n",
    "plot_df =  pd.concat([nonsmokers, smokers])\n",
    "plot_df"
   ]
  },
  {
   "cell_type": "code",
   "execution_count": 14,
   "id": "0a0a285e",
   "metadata": {
    "ExecuteTime": {
     "end_time": "2022-11-02T18:11:59.523452Z",
     "start_time": "2022-11-02T18:11:59.519315Z"
    }
   },
   "outputs": [],
   "source": [
    "# Save the charges column as the final group variable for each of the groups \n",
    "smoker_group = smokers['charges']\n",
    "nonsmoker_group = nonsmokers['charges']\n",
    "\n"
   ]
  },
  {
   "cell_type": "code",
   "execution_count": 15,
   "id": "5215575b",
   "metadata": {
    "ExecuteTime": {
     "end_time": "2022-11-02T18:11:59.533191Z",
     "start_time": "2022-11-02T18:11:59.526754Z"
    }
   },
   "outputs": [
    {
     "data": {
      "text/plain": [
       "0       16884.92400\n",
       "11      27808.72510\n",
       "14      39611.75770\n",
       "19      36837.46700\n",
       "23      37701.87680\n",
       "           ...     \n",
       "1313    36397.57600\n",
       "1314    18765.87545\n",
       "1321    28101.33305\n",
       "1323    43896.37630\n",
       "1337    29141.36030\n",
       "Name: charges, Length: 274, dtype: float64"
      ]
     },
     "execution_count": 15,
     "metadata": {},
     "output_type": "execute_result"
    }
   ],
   "source": [
    "smoker_group"
   ]
  },
  {
   "cell_type": "code",
   "execution_count": 16,
   "id": "752fe872",
   "metadata": {
    "ExecuteTime": {
     "end_time": "2022-11-02T18:11:59.541820Z",
     "start_time": "2022-11-02T18:11:59.535596Z"
    }
   },
   "outputs": [
    {
     "data": {
      "text/plain": [
       "1        1725.55230\n",
       "2        4449.46200\n",
       "3       21984.47061\n",
       "4        3866.85520\n",
       "5        3756.62160\n",
       "           ...     \n",
       "1332    11411.68500\n",
       "1333    10600.54830\n",
       "1334     2205.98080\n",
       "1335     1629.83350\n",
       "1336     2007.94500\n",
       "Name: charges, Length: 1064, dtype: float64"
      ]
     },
     "execution_count": 16,
     "metadata": {},
     "output_type": "execute_result"
    }
   ],
   "source": [
    "nonsmoker_group"
   ]
  },
  {
   "cell_type": "markdown",
   "id": "03c3efd9",
   "metadata": {},
   "source": [
    "## Now that I have separated the two groups I will need to check that all Test Assumptions are met before proceeding with the 2 Sample T-Test \n",
    "\n",
    "# Testing Assumptions for a 2-sample T-Test\n",
    "\n",
    "* No significant outliers\n",
    "* Normality\n",
    "* Equal Variance"
   ]
  },
  {
   "cell_type": "markdown",
   "id": "604efa00",
   "metadata": {},
   "source": [
    "# First I need to remove any significant Outliers present in the groups I made. I will save the outliers in a separate variable for each group and then remove them. Then I will save the remaining clean values in a separate clean dataframe for each group. "
   ]
  },
  {
   "cell_type": "code",
   "execution_count": 17,
   "id": "869b3451",
   "metadata": {
    "ExecuteTime": {
     "end_time": "2022-11-02T18:11:59.552893Z",
     "start_time": "2022-11-02T18:11:59.545293Z"
    }
   },
   "outputs": [
    {
     "data": {
      "text/plain": [
       "0"
      ]
     },
     "execution_count": 17,
     "metadata": {},
     "output_type": "execute_result"
    }
   ],
   "source": [
    "## Check the smokers group for outliers\n",
    "smoker_outliers =  np.abs(stats.zscore(smoker_group)) > 3\n",
    "\n",
    "## how many outliers?\n",
    "smoker_outliers.sum()"
   ]
  },
  {
   "cell_type": "markdown",
   "id": "7efaf55f",
   "metadata": {},
   "source": [
    "**There are no significant outliers in the smoker group**"
   ]
  },
  {
   "cell_type": "code",
   "execution_count": 18,
   "id": "eda0711d",
   "metadata": {
    "ExecuteTime": {
     "end_time": "2022-11-02T18:11:59.560204Z",
     "start_time": "2022-11-02T18:11:59.555077Z"
    }
   },
   "outputs": [
    {
     "data": {
      "text/plain": [
       "274"
      ]
     },
     "execution_count": 18,
     "metadata": {},
     "output_type": "execute_result"
    }
   ],
   "source": [
    "len(smoker_group)\n",
    "\n"
   ]
  },
  {
   "cell_type": "code",
   "execution_count": 19,
   "id": "a5494b08",
   "metadata": {
    "ExecuteTime": {
     "end_time": "2022-11-02T18:11:59.569363Z",
     "start_time": "2022-11-02T18:11:59.562707Z"
    }
   },
   "outputs": [
    {
     "data": {
      "text/plain": [
       "24"
      ]
     },
     "execution_count": 19,
     "metadata": {},
     "output_type": "execute_result"
    }
   ],
   "source": [
    "## Check the nonsmokers group for outliers\n",
    "nonsmoker_outliers =  np.abs(stats.zscore(nonsmoker_group)) > 3\n",
    "\n",
    "## how many outliers?\n",
    "nonsmoker_outliers.sum()"
   ]
  },
  {
   "cell_type": "code",
   "execution_count": 20,
   "id": "1aaedf64",
   "metadata": {
    "ExecuteTime": {
     "end_time": "2022-11-02T18:11:59.578173Z",
     "start_time": "2022-11-02T18:11:59.571652Z"
    }
   },
   "outputs": [
    {
     "data": {
      "text/plain": [
       "1064"
      ]
     },
     "execution_count": 20,
     "metadata": {},
     "output_type": "execute_result"
    }
   ],
   "source": [
    "len(nonsmoker_group)\n"
   ]
  },
  {
   "cell_type": "code",
   "execution_count": 21,
   "id": "39a71961",
   "metadata": {
    "ExecuteTime": {
     "end_time": "2022-11-02T18:11:59.588868Z",
     "start_time": "2022-11-02T18:11:59.582147Z"
    }
   },
   "outputs": [
    {
     "data": {
      "text/plain": [
       "1        1725.55230\n",
       "2        4449.46200\n",
       "3       21984.47061\n",
       "4        3866.85520\n",
       "5        3756.62160\n",
       "           ...     \n",
       "1332    11411.68500\n",
       "1333    10600.54830\n",
       "1334     2205.98080\n",
       "1335     1629.83350\n",
       "1336     2007.94500\n",
       "Name: charges, Length: 1040, dtype: float64"
      ]
     },
     "execution_count": 21,
     "metadata": {},
     "output_type": "execute_result"
    }
   ],
   "source": [
    "## remove the outliers from the nonsmoker_group  \n",
    "nonsmoker_group_cln = nonsmoker_group[nonsmoker_outliers==False]\n",
    "nonsmoker_group_cln"
   ]
  },
  {
   "cell_type": "code",
   "execution_count": 22,
   "id": "df7d08b5",
   "metadata": {
    "ExecuteTime": {
     "end_time": "2022-11-02T18:11:59.598619Z",
     "start_time": "2022-11-02T18:11:59.592072Z"
    }
   },
   "outputs": [
    {
     "data": {
      "text/plain": [
       "0       16884.92400\n",
       "11      27808.72510\n",
       "14      39611.75770\n",
       "19      36837.46700\n",
       "23      37701.87680\n",
       "           ...     \n",
       "1313    36397.57600\n",
       "1314    18765.87545\n",
       "1321    28101.33305\n",
       "1323    43896.37630\n",
       "1337    29141.36030\n",
       "Name: charges, Length: 274, dtype: float64"
      ]
     },
     "execution_count": 22,
     "metadata": {},
     "output_type": "execute_result"
    }
   ],
   "source": [
    "smoker_group_cln = smoker_group[smoker_outliers==False]\n",
    "smoker_group_cln "
   ]
  },
  {
   "cell_type": "markdown",
   "id": "2a6fec0f",
   "metadata": {},
   "source": [
    "## Test for Normality\n"
   ]
  },
  {
   "cell_type": "code",
   "execution_count": 23,
   "id": "bc70f794",
   "metadata": {
    "ExecuteTime": {
     "end_time": "2022-11-02T18:11:59.607130Z",
     "start_time": "2022-11-02T18:11:59.601080Z"
    }
   },
   "outputs": [
    {
     "data": {
      "text/plain": [
       "NormaltestResult(statistic=163.80367047789198, pvalue=2.6945416315543976e-36)"
      ]
     },
     "execution_count": 23,
     "metadata": {},
     "output_type": "execute_result"
    }
   ],
   "source": [
    "stats.normaltest(nonsmoker_group_cln)"
   ]
  },
  {
   "cell_type": "code",
   "execution_count": 24,
   "id": "48f3b72e",
   "metadata": {
    "ExecuteTime": {
     "end_time": "2022-11-02T18:11:59.612994Z",
     "start_time": "2022-11-02T18:11:59.609325Z"
    }
   },
   "outputs": [
    {
     "data": {
      "text/plain": [
       "1040"
      ]
     },
     "execution_count": 24,
     "metadata": {},
     "output_type": "execute_result"
    }
   ],
   "source": [
    "len(nonsmoker_group_cln)"
   ]
  },
  {
   "cell_type": "code",
   "execution_count": 25,
   "id": "39d5be2b",
   "metadata": {
    "ExecuteTime": {
     "end_time": "2022-11-02T18:11:59.620329Z",
     "start_time": "2022-11-02T18:11:59.615225Z"
    }
   },
   "outputs": [
    {
     "data": {
      "text/plain": [
       "NormaltestResult(statistic=61.03941356533816, pvalue=5.564930630036463e-14)"
      ]
     },
     "execution_count": 25,
     "metadata": {},
     "output_type": "execute_result"
    }
   ],
   "source": [
    "stats.normaltest(smoker_group_cln)"
   ]
  },
  {
   "cell_type": "code",
   "execution_count": 26,
   "id": "7c5dcc71",
   "metadata": {
    "ExecuteTime": {
     "end_time": "2022-11-02T18:11:59.627637Z",
     "start_time": "2022-11-02T18:11:59.622431Z"
    }
   },
   "outputs": [
    {
     "data": {
      "text/plain": [
       "274"
      ]
     },
     "execution_count": 26,
     "metadata": {},
     "output_type": "execute_result"
    }
   ],
   "source": [
    "len(smoker_group_cln)"
   ]
  },
  {
   "cell_type": "markdown",
   "id": "e0548f2a",
   "metadata": {},
   "source": [
    "### Our groups meet the assumption of normality each group is larger than 20 n > 20 "
   ]
  },
  {
   "cell_type": "code",
   "execution_count": null,
   "id": "9025d75a",
   "metadata": {},
   "outputs": [],
   "source": [
    "\n"
   ]
  },
  {
   "cell_type": "markdown",
   "id": "0e34a751",
   "metadata": {},
   "source": [
    "## Test for Equal Variances\n",
    "\n",
    "** I will use the Levene test to test for equal variances in both groups "
   ]
  },
  {
   "cell_type": "code",
   "execution_count": 27,
   "id": "830c3699",
   "metadata": {
    "ExecuteTime": {
     "end_time": "2022-11-02T18:11:59.635062Z",
     "start_time": "2022-11-02T18:11:59.629656Z"
    }
   },
   "outputs": [
    {
     "data": {
      "text/plain": [
       "LeveneResult(statistic=520.7468821724297, pvalue=2.4247238784347824e-97)"
      ]
     },
     "execution_count": 27,
     "metadata": {},
     "output_type": "execute_result"
    }
   ],
   "source": [
    "result = stats.levene(nonsmoker_group_cln, smoker_group_cln)\n",
    "result"
   ]
  },
  {
   "cell_type": "code",
   "execution_count": 28,
   "id": "da22a1e1",
   "metadata": {
    "ExecuteTime": {
     "end_time": "2022-11-02T18:11:59.649057Z",
     "start_time": "2022-11-02T18:11:59.645067Z"
    }
   },
   "outputs": [
    {
     "data": {
      "text/plain": [
       "True"
      ]
     },
     "execution_count": 28,
     "metadata": {},
     "output_type": "execute_result"
    }
   ],
   "source": [
    "#check iif result is less than the p-value 0f 0.05 \n",
    "result.pvalue < .05"
   ]
  },
  {
   "cell_type": "code",
   "execution_count": 29,
   "id": "de8503b9",
   "metadata": {
    "ExecuteTime": {
     "end_time": "2022-11-02T18:11:59.653807Z",
     "start_time": "2022-11-02T18:11:59.651075Z"
    }
   },
   "outputs": [],
   "source": [
    "final_result =stats.ttest_ind(nonsmoker_group_cln, smoker_group_cln)"
   ]
  },
  {
   "cell_type": "code",
   "execution_count": 30,
   "id": "f55ac6dc",
   "metadata": {
    "ExecuteTime": {
     "end_time": "2022-11-02T18:11:59.660340Z",
     "start_time": "2022-11-02T18:11:59.655982Z"
    }
   },
   "outputs": [
    {
     "data": {
      "text/plain": [
       "True"
      ]
     },
     "execution_count": 30,
     "metadata": {},
     "output_type": "execute_result"
    }
   ],
   "source": [
    "final_result.pvalue <.00000001\n"
   ]
  },
  {
   "cell_type": "code",
   "execution_count": 31,
   "id": "d4198d5c",
   "metadata": {
    "ExecuteTime": {
     "end_time": "2022-11-02T18:11:59.666701Z",
     "start_time": "2022-11-02T18:11:59.662568Z"
    }
   },
   "outputs": [
    {
     "data": {
      "text/plain": [
       "7939.8608446721155"
      ]
     },
     "execution_count": 31,
     "metadata": {},
     "output_type": "execute_result"
    }
   ],
   "source": [
    "nonsmoker_group_cln.mean()"
   ]
  },
  {
   "cell_type": "code",
   "execution_count": 32,
   "id": "3cfb8528",
   "metadata": {
    "ExecuteTime": {
     "end_time": "2022-11-02T18:11:59.673274Z",
     "start_time": "2022-11-02T18:11:59.669283Z"
    }
   },
   "outputs": [
    {
     "data": {
      "text/plain": [
       "32050.23183153284"
      ]
     },
     "execution_count": 32,
     "metadata": {},
     "output_type": "execute_result"
    }
   ],
   "source": [
    "smoker_group_cln.mean()"
   ]
  },
  {
   "cell_type": "markdown",
   "id": "822fcc0c",
   "metadata": {},
   "source": [
    "# Conclusion \n",
    "There is a signficant differnce in charges between smokers and non smokers. We have enough evidence to rejeect the Null hypothesis and support the Alternative hypotheesis. There is a difference in charges for smokers and non-smokers."
   ]
  },
  {
   "cell_type": "markdown",
   "id": "51bda2b8",
   "metadata": {},
   "source": [
    "# Question 2 Hypothesis¶\n",
    "**Are men more likely to smoke than women?**\n",
    "\n",
    "* Null Hypothesis H0: There is no difference, Men and Women are both just as likely to be smokers\n",
    "\n",
    "* Alternate Hypothesis H1: There is a difference in the probability of Men and Women smoking.\n",
    "\n",
    "* Data Type: Categorical\n",
    "\n",
    "# Determine the correct test to perform.\n",
    "Type of Data?\n",
    "\n",
    "* Categorical \n",
    "\n",
    "How many groups/samples?\n",
    "2\n",
    "\n",
    "Therefore, which test is appropriate?\n",
    "* Chi-Square\n",
    "\n",
    "# Test Assumptions :\n",
    "\n",
    "* There are two categorical variables (ordinal or nominal)\n",
    "* The outcomes are independent\n",
    "\n",
    "# Visualize and separate data for hypothesis¶\n",
    "1. What column is our target?\n",
    "\n",
    "* The smoker column\n",
    "\n",
    "2. What column determines our groups?\n",
    "\n",
    "* The sex column\n"
   ]
  },
  {
   "cell_type": "code",
   "execution_count": 33,
   "id": "a94ccf2f",
   "metadata": {
    "ExecuteTime": {
     "end_time": "2022-11-02T18:11:59.680389Z",
     "start_time": "2022-11-02T18:11:59.675480Z"
    }
   },
   "outputs": [
    {
     "data": {
      "text/plain": [
       "male      676\n",
       "female    662\n",
       "Name: sex, dtype: int64"
      ]
     },
     "execution_count": 33,
     "metadata": {},
     "output_type": "execute_result"
    }
   ],
   "source": [
    "#check the values of the sex column \n",
    "df['sex'].value_counts()"
   ]
  },
  {
   "cell_type": "code",
   "execution_count": 34,
   "id": "34ef50db",
   "metadata": {
    "ExecuteTime": {
     "end_time": "2022-11-02T18:11:59.687890Z",
     "start_time": "2022-11-02T18:11:59.682558Z"
    }
   },
   "outputs": [
    {
     "data": {
      "text/plain": [
       "no     1064\n",
       "yes     274\n",
       "Name: smoker, dtype: int64"
      ]
     },
     "execution_count": 34,
     "metadata": {},
     "output_type": "execute_result"
    }
   ],
   "source": [
    "#check the vales of the smoker column \n",
    "df['smoker'].value_counts()"
   ]
  },
  {
   "cell_type": "code",
   "execution_count": 35,
   "id": "aee395fe",
   "metadata": {
    "ExecuteTime": {
     "end_time": "2022-11-02T18:11:59.698862Z",
     "start_time": "2022-11-02T18:11:59.689881Z"
    }
   },
   "outputs": [
    {
     "name": "stdout",
     "output_type": "stream",
     "text": [
      "<class 'pandas.core.frame.DataFrame'>\n",
      "RangeIndex: 1338 entries, 0 to 1337\n",
      "Data columns (total 8 columns):\n",
      " #   Column      Non-Null Count  Dtype  \n",
      "---  ------      --------------  -----  \n",
      " 0   age         1338 non-null   int64  \n",
      " 1   sex         1338 non-null   object \n",
      " 2   bmi         1338 non-null   float64\n",
      " 3   children    1338 non-null   int64  \n",
      " 4   smoker      1338 non-null   object \n",
      " 5   region      1338 non-null   object \n",
      " 6   charges     1338 non-null   float64\n",
      " 7   has_smoker  1338 non-null   bool   \n",
      "dtypes: bool(1), float64(2), int64(2), object(3)\n",
      "memory usage: 74.6+ KB\n"
     ]
    }
   ],
   "source": [
    "#check dataframe info \n",
    "df.info()"
   ]
  },
  {
   "cell_type": "code",
   "execution_count": 36,
   "id": "ceb1e11d",
   "metadata": {
    "ExecuteTime": {
     "end_time": "2022-11-02T18:11:59.840126Z",
     "start_time": "2022-11-02T18:11:59.701058Z"
    }
   },
   "outputs": [
    {
     "data": {
      "text/plain": [
       "<AxesSubplot:xlabel='sex', ylabel='Count'>"
      ]
     },
     "execution_count": 36,
     "metadata": {},
     "output_type": "execute_result"
    },
    {
     "data": {
      "image/png": "[encoded data removed]",
      "text/plain": [
       "<Figure size 640x480 with 1 Axes>"
      ]
     },
     "metadata": {},
     "output_type": "display_data"
    }
   ],
   "source": [
    "#visualize column we will seperate groups by\n",
    "sns.histplot(data=df, x='sex')"
   ]
  },
  {
   "cell_type": "code",
   "execution_count": 37,
   "id": "3b569432",
   "metadata": {
    "ExecuteTime": {
     "end_time": "2022-11-02T18:11:59.850172Z",
     "start_time": "2022-11-02T18:11:59.842421Z"
    }
   },
   "outputs": [
    {
     "data": {
      "text/plain": [
       "True    1.0\n",
       "Name: has_male, dtype: float64"
      ]
     },
     "execution_count": 37,
     "metadata": {},
     "output_type": "execute_result"
    }
   ],
   "source": [
    "df['has_male'] = df['sex'].str.contains(('male'))\n",
    "df['has_male'].value_counts(normalize=True)"
   ]
  },
  {
   "cell_type": "code",
   "execution_count": 38,
   "id": "61dc9ced",
   "metadata": {
    "ExecuteTime": {
     "end_time": "2022-11-02T18:11:59.858394Z",
     "start_time": "2022-11-02T18:11:59.852729Z"
    }
   },
   "outputs": [
    {
     "data": {
      "text/plain": [
       "True    1338\n",
       "Name: has_male, dtype: int64"
      ]
     },
     "execution_count": 38,
     "metadata": {},
     "output_type": "execute_result"
    }
   ],
   "source": [
    "df['has_male'].value_counts()"
   ]
  },
  {
   "cell_type": "code",
   "execution_count": 39,
   "id": "671533df",
   "metadata": {
    "ExecuteTime": {
     "end_time": "2022-11-02T18:11:59.868112Z",
     "start_time": "2022-11-02T18:11:59.860879Z"
    }
   },
   "outputs": [
    {
     "data": {
      "text/plain": [
       "False    0.505232\n",
       "True     0.494768\n",
       "Name: has_female, dtype: float64"
      ]
     },
     "execution_count": 39,
     "metadata": {},
     "output_type": "execute_result"
    }
   ],
   "source": [
    "df['has_female'] = df['sex'].str.contains(('female'))\n",
    "df['has_female'].value_counts(normalize=True)"
   ]
  },
  {
   "cell_type": "code",
   "execution_count": 40,
   "id": "4cefd9d3",
   "metadata": {
    "ExecuteTime": {
     "end_time": "2022-11-02T18:11:59.875977Z",
     "start_time": "2022-11-02T18:11:59.870670Z"
    }
   },
   "outputs": [
    {
     "data": {
      "text/plain": [
       "False    676\n",
       "True     662\n",
       "Name: has_female, dtype: int64"
      ]
     },
     "execution_count": 40,
     "metadata": {},
     "output_type": "execute_result"
    }
   ],
   "source": [
    "df['has_female'].value_counts()"
   ]
  },
  {
   "cell_type": "code",
   "execution_count": 41,
   "id": "797271d5",
   "metadata": {
    "ExecuteTime": {
     "end_time": "2022-11-02T18:11:59.881467Z",
     "start_time": "2022-11-02T18:11:59.878704Z"
    }
   },
   "outputs": [],
   "source": [
    "## save list of columns needed for each group\n",
    "needed_cols = ['has_male','smoker']"
   ]
  },
  {
   "cell_type": "code",
   "execution_count": 42,
   "id": "d59bfe06",
   "metadata": {
    "ExecuteTime": {
     "end_time": "2022-11-02T18:11:59.895451Z",
     "start_time": "2022-11-02T18:11:59.884067Z"
    }
   },
   "outputs": [
    {
     "data": {
      "text/html": [
       "<div>\n",
       "<style scoped>\n",
       "    .dataframe tbody tr th:only-of-type {\n",
       "        vertical-align: middle;\n",
       "    }\n",
       "\n",
       "    .dataframe tbody tr th {\n",
       "        vertical-align: top;\n",
       "    }\n",
       "\n",
       "    .dataframe thead th {\n",
       "        text-align: right;\n",
       "    }\n",
       "</style>\n",
       "<table border=\"1\" class=\"dataframe\">\n",
       "  <thead>\n",
       "    <tr style=\"text-align: right;\">\n",
       "      <th></th>\n",
       "      <th>has_male</th>\n",
       "      <th>smoker</th>\n",
       "    </tr>\n",
       "  </thead>\n",
       "  <tbody>\n",
       "    <tr>\n",
       "      <th>1</th>\n",
       "      <td>True</td>\n",
       "      <td>no</td>\n",
       "    </tr>\n",
       "    <tr>\n",
       "      <th>2</th>\n",
       "      <td>True</td>\n",
       "      <td>no</td>\n",
       "    </tr>\n",
       "    <tr>\n",
       "      <th>3</th>\n",
       "      <td>True</td>\n",
       "      <td>no</td>\n",
       "    </tr>\n",
       "    <tr>\n",
       "      <th>4</th>\n",
       "      <td>True</td>\n",
       "      <td>no</td>\n",
       "    </tr>\n",
       "    <tr>\n",
       "      <th>8</th>\n",
       "      <td>True</td>\n",
       "      <td>no</td>\n",
       "    </tr>\n",
       "    <tr>\n",
       "      <th>...</th>\n",
       "      <td>...</td>\n",
       "      <td>...</td>\n",
       "    </tr>\n",
       "    <tr>\n",
       "      <th>1324</th>\n",
       "      <td>True</td>\n",
       "      <td>no</td>\n",
       "    </tr>\n",
       "    <tr>\n",
       "      <th>1325</th>\n",
       "      <td>True</td>\n",
       "      <td>no</td>\n",
       "    </tr>\n",
       "    <tr>\n",
       "      <th>1327</th>\n",
       "      <td>True</td>\n",
       "      <td>no</td>\n",
       "    </tr>\n",
       "    <tr>\n",
       "      <th>1329</th>\n",
       "      <td>True</td>\n",
       "      <td>no</td>\n",
       "    </tr>\n",
       "    <tr>\n",
       "      <th>1333</th>\n",
       "      <td>True</td>\n",
       "      <td>no</td>\n",
       "    </tr>\n",
       "  </tbody>\n",
       "</table>\n",
       "<p>676 rows × 2 columns</p>\n",
       "</div>"
      ],
      "text/plain": [
       "      has_male smoker\n",
       "1         True     no\n",
       "2         True     no\n",
       "3         True     no\n",
       "4         True     no\n",
       "8         True     no\n",
       "...        ...    ...\n",
       "1324      True     no\n",
       "1325      True     no\n",
       "1327      True     no\n",
       "1329      True     no\n",
       "1333      True     no\n",
       "\n",
       "[676 rows x 2 columns]"
      ]
     },
     "execution_count": 42,
     "metadata": {},
     "output_type": "execute_result"
    }
   ],
   "source": [
    "## save male team in separate variable\n",
    "male_df = df.loc[df['has_female']==False, needed_cols]\n",
    "male_df "
   ]
  },
  {
   "cell_type": "code",
   "execution_count": 43,
   "id": "a25b6efb",
   "metadata": {
    "ExecuteTime": {
     "end_time": "2022-11-02T18:11:59.908915Z",
     "start_time": "2022-11-02T18:11:59.897967Z"
    }
   },
   "outputs": [
    {
     "data": {
      "text/html": [
       "<div>\n",
       "<style scoped>\n",
       "    .dataframe tbody tr th:only-of-type {\n",
       "        vertical-align: middle;\n",
       "    }\n",
       "\n",
       "    .dataframe tbody tr th {\n",
       "        vertical-align: top;\n",
       "    }\n",
       "\n",
       "    .dataframe thead th {\n",
       "        text-align: right;\n",
       "    }\n",
       "</style>\n",
       "<table border=\"1\" class=\"dataframe\">\n",
       "  <thead>\n",
       "    <tr style=\"text-align: right;\">\n",
       "      <th></th>\n",
       "      <th>has_male</th>\n",
       "      <th>smoker</th>\n",
       "    </tr>\n",
       "  </thead>\n",
       "  <tbody>\n",
       "    <tr>\n",
       "      <th>0</th>\n",
       "      <td>True</td>\n",
       "      <td>yes</td>\n",
       "    </tr>\n",
       "    <tr>\n",
       "      <th>5</th>\n",
       "      <td>True</td>\n",
       "      <td>no</td>\n",
       "    </tr>\n",
       "    <tr>\n",
       "      <th>6</th>\n",
       "      <td>True</td>\n",
       "      <td>no</td>\n",
       "    </tr>\n",
       "    <tr>\n",
       "      <th>7</th>\n",
       "      <td>True</td>\n",
       "      <td>no</td>\n",
       "    </tr>\n",
       "    <tr>\n",
       "      <th>9</th>\n",
       "      <td>True</td>\n",
       "      <td>no</td>\n",
       "    </tr>\n",
       "    <tr>\n",
       "      <th>...</th>\n",
       "      <td>...</td>\n",
       "      <td>...</td>\n",
       "    </tr>\n",
       "    <tr>\n",
       "      <th>1332</th>\n",
       "      <td>True</td>\n",
       "      <td>no</td>\n",
       "    </tr>\n",
       "    <tr>\n",
       "      <th>1334</th>\n",
       "      <td>True</td>\n",
       "      <td>no</td>\n",
       "    </tr>\n",
       "    <tr>\n",
       "      <th>1335</th>\n",
       "      <td>True</td>\n",
       "      <td>no</td>\n",
       "    </tr>\n",
       "    <tr>\n",
       "      <th>1336</th>\n",
       "      <td>True</td>\n",
       "      <td>no</td>\n",
       "    </tr>\n",
       "    <tr>\n",
       "      <th>1337</th>\n",
       "      <td>True</td>\n",
       "      <td>yes</td>\n",
       "    </tr>\n",
       "  </tbody>\n",
       "</table>\n",
       "<p>662 rows × 2 columns</p>\n",
       "</div>"
      ],
      "text/plain": [
       "      has_male smoker\n",
       "0         True    yes\n",
       "5         True     no\n",
       "6         True     no\n",
       "7         True     no\n",
       "9         True     no\n",
       "...        ...    ...\n",
       "1332      True     no\n",
       "1334      True     no\n",
       "1335      True     no\n",
       "1336      True     no\n",
       "1337      True    yes\n",
       "\n",
       "[662 rows x 2 columns]"
      ]
     },
     "execution_count": 43,
     "metadata": {},
     "output_type": "execute_result"
    }
   ],
   "source": [
    "## save female team in separate variables\n",
    "female_df = df.loc[df['has_female']==True, needed_cols]\n",
    "female_df"
   ]
  },
  {
   "cell_type": "code",
   "execution_count": 44,
   "id": "8560514b",
   "metadata": {
    "ExecuteTime": {
     "end_time": "2022-11-02T18:11:59.922318Z",
     "start_time": "2022-11-02T18:11:59.911549Z"
    }
   },
   "outputs": [
    {
     "data": {
      "text/html": [
       "<div>\n",
       "<style scoped>\n",
       "    .dataframe tbody tr th:only-of-type {\n",
       "        vertical-align: middle;\n",
       "    }\n",
       "\n",
       "    .dataframe tbody tr th {\n",
       "        vertical-align: top;\n",
       "    }\n",
       "\n",
       "    .dataframe thead th {\n",
       "        text-align: right;\n",
       "    }\n",
       "</style>\n",
       "<table border=\"1\" class=\"dataframe\">\n",
       "  <thead>\n",
       "    <tr style=\"text-align: right;\">\n",
       "      <th></th>\n",
       "      <th>has_male</th>\n",
       "      <th>smoker</th>\n",
       "    </tr>\n",
       "  </thead>\n",
       "  <tbody>\n",
       "    <tr>\n",
       "      <th>1</th>\n",
       "      <td>True</td>\n",
       "      <td>no</td>\n",
       "    </tr>\n",
       "    <tr>\n",
       "      <th>2</th>\n",
       "      <td>True</td>\n",
       "      <td>no</td>\n",
       "    </tr>\n",
       "    <tr>\n",
       "      <th>3</th>\n",
       "      <td>True</td>\n",
       "      <td>no</td>\n",
       "    </tr>\n",
       "    <tr>\n",
       "      <th>4</th>\n",
       "      <td>True</td>\n",
       "      <td>no</td>\n",
       "    </tr>\n",
       "    <tr>\n",
       "      <th>8</th>\n",
       "      <td>True</td>\n",
       "      <td>no</td>\n",
       "    </tr>\n",
       "    <tr>\n",
       "      <th>...</th>\n",
       "      <td>...</td>\n",
       "      <td>...</td>\n",
       "    </tr>\n",
       "    <tr>\n",
       "      <th>1332</th>\n",
       "      <td>True</td>\n",
       "      <td>no</td>\n",
       "    </tr>\n",
       "    <tr>\n",
       "      <th>1334</th>\n",
       "      <td>True</td>\n",
       "      <td>no</td>\n",
       "    </tr>\n",
       "    <tr>\n",
       "      <th>1335</th>\n",
       "      <td>True</td>\n",
       "      <td>no</td>\n",
       "    </tr>\n",
       "    <tr>\n",
       "      <th>1336</th>\n",
       "      <td>True</td>\n",
       "      <td>no</td>\n",
       "    </tr>\n",
       "    <tr>\n",
       "      <th>1337</th>\n",
       "      <td>True</td>\n",
       "      <td>yes</td>\n",
       "    </tr>\n",
       "  </tbody>\n",
       "</table>\n",
       "<p>1338 rows × 2 columns</p>\n",
       "</div>"
      ],
      "text/plain": [
       "      has_male smoker\n",
       "1         True     no\n",
       "2         True     no\n",
       "3         True     no\n",
       "4         True     no\n",
       "8         True     no\n",
       "...        ...    ...\n",
       "1332      True     no\n",
       "1334      True     no\n",
       "1335      True     no\n",
       "1336      True     no\n",
       "1337      True    yes\n",
       "\n",
       "[1338 rows x 2 columns]"
      ]
     },
     "execution_count": 44,
     "metadata": {},
     "output_type": "execute_result"
    }
   ],
   "source": [
    "## Make a df just for visualization by concat the groups \n",
    "plot_df =  pd.concat([male_df,female_df])\n",
    "plot_df"
   ]
  },
  {
   "cell_type": "markdown",
   "id": "b0112e11",
   "metadata": {},
   "source": [
    "## Test Assumptions :¶\n",
    "1. There are two categorical variables (ordinal or nominal)\n",
    "2.  The outcomes are independent"
   ]
  },
  {
   "cell_type": "code",
   "execution_count": 45,
   "id": "30b5b8ff",
   "metadata": {
    "ExecuteTime": {
     "end_time": "2022-11-02T18:11:59.942087Z",
     "start_time": "2022-11-02T18:11:59.925355Z"
    }
   },
   "outputs": [
    {
     "data": {
      "text/html": [
       "<div>\n",
       "<style scoped>\n",
       "    .dataframe tbody tr th:only-of-type {\n",
       "        vertical-align: middle;\n",
       "    }\n",
       "\n",
       "    .dataframe tbody tr th {\n",
       "        vertical-align: top;\n",
       "    }\n",
       "\n",
       "    .dataframe thead th {\n",
       "        text-align: right;\n",
       "    }\n",
       "</style>\n",
       "<table border=\"1\" class=\"dataframe\">\n",
       "  <thead>\n",
       "    <tr style=\"text-align: right;\">\n",
       "      <th>smoker</th>\n",
       "      <th>no</th>\n",
       "      <th>yes</th>\n",
       "    </tr>\n",
       "    <tr>\n",
       "      <th>sex</th>\n",
       "      <th></th>\n",
       "      <th></th>\n",
       "    </tr>\n",
       "  </thead>\n",
       "  <tbody>\n",
       "    <tr>\n",
       "      <th>female</th>\n",
       "      <td>547</td>\n",
       "      <td>115</td>\n",
       "    </tr>\n",
       "    <tr>\n",
       "      <th>male</th>\n",
       "      <td>517</td>\n",
       "      <td>159</td>\n",
       "    </tr>\n",
       "  </tbody>\n",
       "</table>\n",
       "</div>"
      ],
      "text/plain": [
       "smoker   no  yes\n",
       "sex             \n",
       "female  547  115\n",
       "male    517  159"
      ]
     },
     "execution_count": 45,
     "metadata": {},
     "output_type": "execute_result"
    }
   ],
   "source": [
    "#Make a Crosstab table \n",
    "# calculate the contingency table with pd.cross-tab\n",
    "table = pd.crosstab(df['sex'], df['smoker'])\n",
    "table"
   ]
  },
  {
   "cell_type": "code",
   "execution_count": 46,
   "id": "9fc2f01b",
   "metadata": {
    "ExecuteTime": {
     "end_time": "2022-11-02T18:11:59.947875Z",
     "start_time": "2022-11-02T18:11:59.943848Z"
    }
   },
   "outputs": [],
   "source": [
    "# Run the Test and Save the Output\n",
    "result = stats.chi2_contingency(table)\n",
    "chi2, p, deg_free, expected_vals = result #this labels the results\n",
    "\n"
   ]
  },
  {
   "cell_type": "code",
   "execution_count": 47,
   "id": "1a9eb5d1",
   "metadata": {
    "ExecuteTime": {
     "end_time": "2022-11-02T18:11:59.953700Z",
     "start_time": "2022-11-02T18:11:59.949918Z"
    }
   },
   "outputs": [
    {
     "name": "stdout",
     "output_type": "stream",
     "text": [
      "0.006548143503580696\n"
     ]
    },
    {
     "data": {
      "text/plain": [
       "True"
      ]
     },
     "execution_count": 47,
     "metadata": {},
     "output_type": "execute_result"
    }
   ],
   "source": [
    "# What was our p-value?\n",
    "print(p)\n",
    "p<.05"
   ]
  },
  {
   "cell_type": "markdown",
   "id": "8a2c76c7",
   "metadata": {},
   "source": [
    "# Conclusion \n",
    "\n",
    "The p-value is less than .05.  This means that we need to reject the null hypothesis that There is no difference, Men and Women are both just as likely to be smokers. "
   ]
  },
  {
   "cell_type": "markdown",
   "id": "0c2d77e7",
   "metadata": {},
   "source": [
    "# Question 3 Hypothesis\n",
    "Do different regions have different charges, on average?\n",
    "\n",
    "Null Hypothesis H0: There is no difference in charges by region.\n",
    "\n",
    "Alternate Hypothesis H1: There is a difference in the charges by region.\n",
    "\n",
    "Data Type : Numeric\n",
    "# Determine the correct test to perform.¶\n",
    "Type of Data?\n",
    "* Numeric the charges charged by region \n",
    "\n",
    "How many groups/samples? \n",
    "\n",
    "* There are 4 regions in the dataframe \n",
    "\n",
    "Therefore, which test is appropriate?\n",
    "* ANOVA/ Tukey Pairwise \n",
    "\n",
    "# Test Assumptions :\n",
    "* No significant outliers\n",
    "* Normality\n",
    "* Equal Variance\n",
    "\n",
    "# Visualize and separate data for hypothesis¶\n",
    "\n",
    "1. What column is our target?\n",
    "* The charges column\n",
    "2. What column determines our groups?\n",
    "* The regions column"
   ]
  },
  {
   "cell_type": "code",
   "execution_count": 48,
   "id": "7b9dbd10",
   "metadata": {
    "ExecuteTime": {
     "end_time": "2022-11-02T18:11:59.960094Z",
     "start_time": "2022-11-02T18:11:59.956025Z"
    }
   },
   "outputs": [
    {
     "data": {
      "text/plain": [
       "4"
      ]
     },
     "execution_count": 48,
     "metadata": {},
     "output_type": "execute_result"
    }
   ],
   "source": [
    "df['region'].nunique()"
   ]
  },
  {
   "cell_type": "code",
   "execution_count": 49,
   "id": "bd6c5813",
   "metadata": {
    "ExecuteTime": {
     "end_time": "2022-11-02T18:11:59.967118Z",
     "start_time": "2022-11-02T18:11:59.962286Z"
    }
   },
   "outputs": [
    {
     "data": {
      "text/plain": [
       "southeast    364\n",
       "southwest    325\n",
       "northwest    325\n",
       "northeast    324\n",
       "Name: region, dtype: int64"
      ]
     },
     "execution_count": 49,
     "metadata": {},
     "output_type": "execute_result"
    }
   ],
   "source": [
    "df['region'].value_counts()"
   ]
  },
  {
   "cell_type": "code",
   "execution_count": 50,
   "id": "ed354735",
   "metadata": {
    "ExecuteTime": {
     "end_time": "2022-11-02T18:12:00.200838Z",
     "start_time": "2022-11-02T18:11:59.969487Z"
    }
   },
   "outputs": [
    {
     "data": {
      "image/png": "[encoded data removed]",
      "text/plain": [
       "<Figure size 640x480 with 1 Axes>"
      ]
     },
     "metadata": {},
     "output_type": "display_data"
    }
   ],
   "source": [
    "## Make a barplot to visualize the charges for each region \n",
    "ax = sns.barplot(data=df, x='region',y='charges')"
   ]
  },
  {
   "cell_type": "code",
   "execution_count": 51,
   "id": "ec77c435",
   "metadata": {
    "ExecuteTime": {
     "end_time": "2022-11-02T18:12:00.207906Z",
     "start_time": "2022-11-02T18:12:00.203197Z"
    }
   },
   "outputs": [
    {
     "data": {
      "text/plain": [
       "array(['southwest', 'southeast', 'northwest', 'northeast'], dtype=object)"
      ]
     },
     "execution_count": 51,
     "metadata": {},
     "output_type": "execute_result"
    }
   ],
   "source": [
    "#Make a variable for all the region names \n",
    "region_names = df['region'].unique()\n",
    "region_names"
   ]
  },
  {
   "cell_type": "code",
   "execution_count": 52,
   "id": "f5ba336e",
   "metadata": {
    "ExecuteTime": {
     "end_time": "2022-11-02T18:12:00.215725Z",
     "start_time": "2022-11-02T18:12:00.210346Z"
    }
   },
   "outputs": [],
   "source": [
    "#Make an empty dict to hold values for our for loop as it iterates throught the regions and charges \n",
    "groups = {}\n",
    "\n",
    "for region in region_names: \n",
    "    temp = df.loc[df['region']==region, 'charges']\n",
    "    \n",
    "    groups[region] = temp"
   ]
  },
  {
   "cell_type": "code",
   "execution_count": 53,
   "id": "00b83d2c",
   "metadata": {
    "ExecuteTime": {
     "end_time": "2022-11-02T18:12:00.224864Z",
     "start_time": "2022-11-02T18:12:00.218404Z"
    }
   },
   "outputs": [
    {
     "data": {
      "text/plain": [
       "0       16884.92400\n",
       "12       1826.84300\n",
       "15       1837.23700\n",
       "18      10602.38500\n",
       "19      36837.46700\n",
       "           ...     \n",
       "1316     1731.67700\n",
       "1329    10325.20600\n",
       "1331    10795.93733\n",
       "1332    11411.68500\n",
       "1336     2007.94500\n",
       "Name: charges, Length: 325, dtype: float64"
      ]
     },
     "execution_count": 53,
     "metadata": {},
     "output_type": "execute_result"
    }
   ],
   "source": [
    "#check one of the regions to make sure it stored the values of the charges \n",
    "groups['southwest']"
   ]
  },
  {
   "cell_type": "markdown",
   "id": "0c53d6c7",
   "metadata": {},
   "source": [
    "# Test Assumptions :\n",
    "* No significant outliers\n",
    "* Normality\n",
    "* Equal Variance"
   ]
  },
  {
   "cell_type": "markdown",
   "id": "4b764ee3",
   "metadata": {},
   "source": [
    "# Check for Significant Outliers "
   ]
  },
  {
   "cell_type": "code",
   "execution_count": 60,
   "id": "d4d77f24",
   "metadata": {
    "ExecuteTime": {
     "end_time": "2022-11-02T18:16:05.479303Z",
     "start_time": "2022-11-02T18:16:05.468521Z"
    }
   },
   "outputs": [
    {
     "name": "stdout",
     "output_type": "stream",
     "text": [
      "There were 8 outliers in southwest region\n",
      "There were 2 outliers in southeast region\n",
      "There were 7 outliers in northwest region\n",
      "There were 4 outliers in northeast region\n"
     ]
    }
   ],
   "source": [
    "#Create an empty dict to store the values as the for loop iterates through the columns to check for outliers \n",
    "groups_clean = {}\n",
    "\n",
    "#Loop through groups dict\n",
    "for region_names, group_data in groups.items(): #items is key to unlocking the dict values \n",
    "    \n",
    "    #check for outliers \n",
    "    outliers = np.abs(stats.zscore(group_data)) > 3\n",
    "    \n",
    "    #Dispaly the number of outliers in each region \n",
    "    print(f\"There were {outliers.sum()} outliers in {region_names} region\")\n",
    "    \n",
    "    #remove outliers from data and overwrite region data in a new variable \n",
    "    \n",
    "    groups_data_clean = group_data[outliers==False]\n",
    "    \n",
    "    groups_clean[region_names] = groups_data_clean  #Always Make sure that you don't Hardcode any of the variables by using \"\" or column names "
   ]
  },
  {
   "cell_type": "markdown",
   "id": "c3e32ed9",
   "metadata": {},
   "source": [
    "# Test for Normality\n",
    "**Test the assumption of normality to make sure that each group has more than 20 items per group**\n"
   ]
  },
  {
   "cell_type": "markdown",
   "id": "8c466b87",
   "metadata": {},
   "source": [
    "# First Approach \n",
    "Check the values in the region column "
   ]
  },
  {
   "cell_type": "code",
   "execution_count": 55,
   "id": "add558a0",
   "metadata": {
    "ExecuteTime": {
     "end_time": "2022-11-02T18:12:00.255714Z",
     "start_time": "2022-11-02T18:12:00.247160Z"
    }
   },
   "outputs": [
    {
     "data": {
      "text/plain": [
       "southeast    364\n",
       "southwest    325\n",
       "northwest    325\n",
       "northeast    324\n",
       "Name: region, dtype: int64"
      ]
     },
     "execution_count": 55,
     "metadata": {},
     "output_type": "execute_result"
    }
   ],
   "source": [
    "df['region'].value_counts()"
   ]
  },
  {
   "cell_type": "markdown",
   "id": "200d1475",
   "metadata": {},
   "source": [
    "**As we can see each region has more than 20. If we want we can ignore the assumption of normality.** "
   ]
  },
  {
   "cell_type": "markdown",
   "id": "a2bd2a0a",
   "metadata": {},
   "source": [
    "# Second Approach \n",
    "**Make a for loop that loops through all of the region data to ensure that there are more than 20 items per region**"
   ]
  },
  {
   "cell_type": "code",
   "execution_count": 56,
   "id": "3c3e0d96",
   "metadata": {
    "ExecuteTime": {
     "end_time": "2022-11-02T18:12:00.274156Z",
     "start_time": "2022-11-02T18:12:00.258780Z"
    }
   },
   "outputs": [
    {
     "data": {
      "text/plain": [
       "[['group', 'n', 'pval', 'sig?'],\n",
       " ['southwest', 325, 6.125298236442602e-23, True],\n",
       " ['southeast', 364, 4.953296503171451e-15, True],\n",
       " ['northwest', 325, 5.1842093710451725e-24, True],\n",
       " ['northeast', 324, 1.455431391274411e-19, True]]"
      ]
     },
     "execution_count": 56,
     "metadata": {},
     "output_type": "execute_result"
    }
   ],
   "source": [
    "## Running normal test on each group and confirming there are >20 in each group\n",
    "\n",
    "## Save a list with an inner list of column names\n",
    "norm_results = [['group','n','pval','sig?']]\n",
    "\n",
    "\n",
    "## loop through group dict\n",
    "for region_names, group_data in groups.items():\n",
    "    \n",
    "    ## calculate normaltest results\n",
    "    result = stats.normaltest(group_data)\n",
    "    \n",
    "    ## Append the right info into norm_resutls (as a list)\n",
    "    norm_results.append([region_names, len(group_data), result.pvalue,\n",
    "                        result.pvalue < .05])\n",
    "    \n",
    "    \n",
    "## Make norm_results a dataframe (first row is columns, everything else data)\n",
    "norm_results"
   ]
  },
  {
   "cell_type": "code",
   "execution_count": 57,
   "id": "be12ac1a",
   "metadata": {
    "ExecuteTime": {
     "end_time": "2022-11-02T18:12:00.291377Z",
     "start_time": "2022-11-02T18:12:00.277387Z"
    }
   },
   "outputs": [
    {
     "data": {
      "text/html": [
       "<div>\n",
       "<style scoped>\n",
       "    .dataframe tbody tr th:only-of-type {\n",
       "        vertical-align: middle;\n",
       "    }\n",
       "\n",
       "    .dataframe tbody tr th {\n",
       "        vertical-align: top;\n",
       "    }\n",
       "\n",
       "    .dataframe thead th {\n",
       "        text-align: right;\n",
       "    }\n",
       "</style>\n",
       "<table border=\"1\" class=\"dataframe\">\n",
       "  <thead>\n",
       "    <tr style=\"text-align: right;\">\n",
       "      <th></th>\n",
       "      <th>group</th>\n",
       "      <th>n</th>\n",
       "      <th>pval</th>\n",
       "      <th>sig?</th>\n",
       "    </tr>\n",
       "  </thead>\n",
       "  <tbody>\n",
       "    <tr>\n",
       "      <th>0</th>\n",
       "      <td>southwest</td>\n",
       "      <td>325</td>\n",
       "      <td>6.125298e-23</td>\n",
       "      <td>True</td>\n",
       "    </tr>\n",
       "    <tr>\n",
       "      <th>1</th>\n",
       "      <td>southeast</td>\n",
       "      <td>364</td>\n",
       "      <td>4.953297e-15</td>\n",
       "      <td>True</td>\n",
       "    </tr>\n",
       "    <tr>\n",
       "      <th>2</th>\n",
       "      <td>northwest</td>\n",
       "      <td>325</td>\n",
       "      <td>5.184209e-24</td>\n",
       "      <td>True</td>\n",
       "    </tr>\n",
       "    <tr>\n",
       "      <th>3</th>\n",
       "      <td>northeast</td>\n",
       "      <td>324</td>\n",
       "      <td>1.455431e-19</td>\n",
       "      <td>True</td>\n",
       "    </tr>\n",
       "  </tbody>\n",
       "</table>\n",
       "</div>"
      ],
      "text/plain": [
       "       group    n          pval  sig?\n",
       "0  southwest  325  6.125298e-23  True\n",
       "1  southeast  364  4.953297e-15  True\n",
       "2  northwest  325  5.184209e-24  True\n",
       "3  northeast  324  1.455431e-19  True"
      ]
     },
     "execution_count": 57,
     "metadata": {},
     "output_type": "execute_result"
    }
   ],
   "source": [
    "result = pd.DataFrame(norm_results[1:], columns=norm_results[0])\n",
    "result"
   ]
  },
  {
   "cell_type": "markdown",
   "id": "bbef8373",
   "metadata": {},
   "source": [
    "# Test for Equal Variances\n"
   ]
  },
  {
   "cell_type": "code",
   "execution_count": 82,
   "id": "d4d50696",
   "metadata": {
    "ExecuteTime": {
     "end_time": "2022-11-02T21:34:56.141803Z",
     "start_time": "2022-11-02T21:34:56.137178Z"
    }
   },
   "outputs": [
    {
     "name": "stdout",
     "output_type": "stream",
     "text": [
      "LeveneResult(statistic=9.518349004554441, pvalue=3.2035503711783993e-06)\n"
     ]
    }
   ],
   "source": [
    "#I will use Levenes test to test for equal variance stats.levene(*groups_clean.values())\n",
    "result = stats.levene(*groups_clean.values())\n",
    "print(result)"
   ]
  },
  {
   "cell_type": "code",
   "execution_count": 83,
   "id": "f777146f",
   "metadata": {
    "ExecuteTime": {
     "end_time": "2022-11-02T21:35:03.648935Z",
     "start_time": "2022-11-02T21:35:03.645395Z"
    }
   },
   "outputs": [
    {
     "name": "stdout",
     "output_type": "stream",
     "text": [
      "The groups do NOT have equal variance.\n"
     ]
    }
   ],
   "source": [
    "## Use an if-else to help interpret the p-value\n",
    "if result.pvalue < .05:\n",
    "    print(f\"The groups do NOT have equal variance.\")\n",
    "else:\n",
    "    print(f\"The groups DO have equal variance.\")"
   ]
  },
  {
   "cell_type": "markdown",
   "id": "89012f5b",
   "metadata": {},
   "source": [
    "# The Equal Variance p-value is less than .05 so we can assume that the null hypothesis is incorrect and that we don't have equal variance. I need to run a non-parametric test since I failed one of the test assumptions "
   ]
  },
  {
   "cell_type": "code",
   "execution_count": 62,
   "id": "f3346305",
   "metadata": {
    "ExecuteTime": {
     "end_time": "2022-11-02T18:17:44.533703Z",
     "start_time": "2022-11-02T18:17:44.525596Z"
    }
   },
   "outputs": [
    {
     "data": {
      "text/plain": [
       "{'southwest': 0       16884.92400\n",
       " 12       1826.84300\n",
       " 15       1837.23700\n",
       " 18      10602.38500\n",
       " 19      36837.46700\n",
       "            ...     \n",
       " 1316     1731.67700\n",
       " 1329    10325.20600\n",
       " 1331    10795.93733\n",
       " 1332    11411.68500\n",
       " 1336     2007.94500\n",
       " Name: charges, Length: 317, dtype: float64,\n",
       " 'southeast': 1        1725.5523\n",
       " 2        4449.4620\n",
       " 5        3756.6216\n",
       " 6        8240.5896\n",
       " 11      27808.7251\n",
       "            ...    \n",
       " 1322    12981.3457\n",
       " 1323    43896.3763\n",
       " 1327     9377.9047\n",
       " 1330    12629.1656\n",
       " 1335     1629.8335\n",
       " Name: charges, Length: 362, dtype: float64,\n",
       " 'northwest': 3       21984.47061\n",
       " 4        3866.85520\n",
       " 7        7281.50560\n",
       " 9       28923.13692\n",
       " 24       6203.90175\n",
       "            ...     \n",
       " 1319     7201.70085\n",
       " 1320     5425.02335\n",
       " 1324     4239.89265\n",
       " 1333    10600.54830\n",
       " 1337    29141.36030\n",
       " Name: charges, Length: 318, dtype: float64,\n",
       " 'northeast': 8        6406.41070\n",
       " 10       2721.32080\n",
       " 16      10797.33620\n",
       " 17       2395.17155\n",
       " 20      13228.84695\n",
       "            ...     \n",
       " 1321    28101.33305\n",
       " 1325    13143.33665\n",
       " 1326     7050.02130\n",
       " 1328    22395.74424\n",
       " 1334     2205.98080\n",
       " Name: charges, Length: 320, dtype: float64}"
      ]
     },
     "execution_count": 62,
     "metadata": {},
     "output_type": "execute_result"
    }
   ],
   "source": [
    "groups_clean"
   ]
  },
  {
   "cell_type": "code",
   "execution_count": 72,
   "id": "41e4deaa",
   "metadata": {
    "ExecuteTime": {
     "end_time": "2022-11-02T19:43:37.579266Z",
     "start_time": "2022-11-02T19:43:37.346102Z"
    }
   },
   "outputs": [
    {
     "data": {
      "image/png": "[encoded data removed]",
      "text/plain": [
       "<Figure size 640x480 with 1 Axes>"
      ]
     },
     "metadata": {},
     "output_type": "display_data"
    }
   ],
   "source": [
    "ax = sns.barplot(data=df, x='region', y='charges')\n",
    "ax.set_xticklabels(ax.get_xticklabels(), rotation=45, ha='right');"
   ]
  },
  {
   "cell_type": "code",
   "execution_count": 84,
   "id": "8d135c2c",
   "metadata": {
    "ExecuteTime": {
     "end_time": "2022-11-02T21:36:58.334891Z",
     "start_time": "2022-11-02T21:36:58.328827Z"
    }
   },
   "outputs": [
    {
     "name": "stdout",
     "output_type": "stream",
     "text": [
      "KruskalResult(statistic=4.734181215658743, pvalue=0.19232908072121002)\n"
     ]
    },
    {
     "data": {
      "text/plain": [
       "False"
      ]
     },
     "execution_count": 84,
     "metadata": {},
     "output_type": "execute_result"
    }
   ],
   "source": [
    "result = stats.kruskal(*groups.values())\n",
    "print(result)\n",
    "result.pvalue <.05 "
   ]
  },
  {
   "cell_type": "markdown",
   "id": "018279cd",
   "metadata": {},
   "source": [
    "# Conclusion\n",
    "* Our Kruskal Wallis test returned a p-value greater than .05. We reject the alternative hypothesis and conclude that there isn't a significant difference between charges based on regions."
   ]
  },
  {
   "cell_type": "code",
   "execution_count": null,
   "id": "900b6417",
   "metadata": {},
   "outputs": [],
   "source": []
  }
 ],
 "metadata": {
  "kernelspec": {
   "display_name": "Python (dojo-env)",
   "language": "python",
   "name": "dojo-env"
  },
  "language_info": {
   "codemirror_mode": {
    "name": "ipython",
    "version": 3
   },
   "file_extension": ".py",
   "mimetype": "text/x-python",
   "name": "python",
   "nbconvert_exporter": "python",
   "pygments_lexer": "ipython3",
   "version": "3.8.13"
  },
  "toc": {
   "base_numbering": 1,
   "nav_menu": {},
   "number_sections": true,
   "sideBar": true,
   "skip_h1_title": false,
   "title_cell": "Table of Contents",
   "title_sidebar": "Contents",
   "toc_cell": false,
   "toc_position": {},
   "toc_section_display": true,
   "toc_window_display": false
  }
 },
 "nbformat": 4,
 "nbformat_minor": 5
}
